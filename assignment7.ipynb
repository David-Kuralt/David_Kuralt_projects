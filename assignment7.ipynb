{
 "cells": [
  {
   "cell_type": "markdown",
   "id": "4c1791e8",
   "metadata": {},
   "source": [
    "# Assignment 7\n",
    "## Comp 4448, Fall 2021\n",
    "### David Kuralt\n",
    "### Both datasets for this assignment can be found on https://vincentarelbundock.github.io/Rdatasets/articles/data.html"
   ]
  },
  {
   "cell_type": "code",
   "execution_count": 1,
   "id": "ab6c80b6",
   "metadata": {},
   "outputs": [],
   "source": [
    "import numpy as np\n",
    "import pandas as pd\n",
    "import matplotlib.pyplot as plt\n",
    "import seaborn as sns\n",
    "\n",
    "sns.set()\n",
    "%matplotlib inline"
   ]
  },
  {
   "cell_type": "markdown",
   "id": "eaed50f8",
   "metadata": {},
   "source": [
    "## Part 1, Channing House dataset\n",
    "### Description of the variables:\n",
    "#### A data frame with 457 observations on 5 variables\n",
    "#### sex: a factor for the sex of each resident with levels Female Male\n",
    "#### entry: the resident's age, in months, on entry to the center\n",
    "#### exit: the resident's age, in months, upon death or upon the date the study ended on July 1, 1975\n",
    "#### time: the length of time, in months, that the resident lived at Channing House before dying or the end of the study\n",
    "#### cens: 1 if resident died, 0 if resident left Channing House, or if resident was still there as of the end of the study"
   ]
  },
  {
   "cell_type": "code",
   "execution_count": 2,
   "id": "a63545cc",
   "metadata": {},
   "outputs": [
    {
     "data": {
      "text/html": [
       "<div>\n",
       "<style scoped>\n",
       "    .dataframe tbody tr th:only-of-type {\n",
       "        vertical-align: middle;\n",
       "    }\n",
       "\n",
       "    .dataframe tbody tr th {\n",
       "        vertical-align: top;\n",
       "    }\n",
       "\n",
       "    .dataframe thead th {\n",
       "        text-align: right;\n",
       "    }\n",
       "</style>\n",
       "<table border=\"1\" class=\"dataframe\">\n",
       "  <thead>\n",
       "    <tr style=\"text-align: right;\">\n",
       "      <th></th>\n",
       "      <th>sex</th>\n",
       "      <th>entry</th>\n",
       "      <th>exit</th>\n",
       "      <th>cens</th>\n",
       "    </tr>\n",
       "  </thead>\n",
       "  <tbody>\n",
       "    <tr>\n",
       "      <th>0</th>\n",
       "      <td>Male</td>\n",
       "      <td>782</td>\n",
       "      <td>909</td>\n",
       "      <td>1</td>\n",
       "    </tr>\n",
       "    <tr>\n",
       "      <th>1</th>\n",
       "      <td>Male</td>\n",
       "      <td>1020</td>\n",
       "      <td>1128</td>\n",
       "      <td>1</td>\n",
       "    </tr>\n",
       "    <tr>\n",
       "      <th>2</th>\n",
       "      <td>Male</td>\n",
       "      <td>856</td>\n",
       "      <td>969</td>\n",
       "      <td>1</td>\n",
       "    </tr>\n",
       "    <tr>\n",
       "      <th>3</th>\n",
       "      <td>Male</td>\n",
       "      <td>915</td>\n",
       "      <td>957</td>\n",
       "      <td>1</td>\n",
       "    </tr>\n",
       "    <tr>\n",
       "      <th>4</th>\n",
       "      <td>Male</td>\n",
       "      <td>863</td>\n",
       "      <td>983</td>\n",
       "      <td>1</td>\n",
       "    </tr>\n",
       "  </tbody>\n",
       "</table>\n",
       "</div>"
      ],
      "text/plain": [
       "    sex  entry  exit  cens\n",
       "0  Male    782   909     1\n",
       "1  Male   1020  1128     1\n",
       "2  Male    856   969     1\n",
       "3  Male    915   957     1\n",
       "4  Male    863   983     1"
      ]
     },
     "execution_count": 2,
     "metadata": {},
     "output_type": "execute_result"
    }
   ],
   "source": [
    "chan_df = pd.read_csv(\"ChanningHouse.csv\") \n",
    "# we drop the time column since time is explicitly a linear combination of entry and exit\n",
    "chan_df.drop([\"Unnamed: 0\", \"time\"], axis=1, inplace=True)\n",
    "chan_df.head()"
   ]
  },
  {
   "cell_type": "code",
   "execution_count": 3,
   "id": "79815a90",
   "metadata": {},
   "outputs": [
    {
     "data": {
      "text/plain": [
       "sex      False\n",
       "entry    False\n",
       "exit     False\n",
       "cens     False\n",
       "dtype: bool"
      ]
     },
     "execution_count": 3,
     "metadata": {},
     "output_type": "execute_result"
    }
   ],
   "source": [
    "# missing data?\n",
    "chan_df.isna().any()"
   ]
  },
  {
   "cell_type": "code",
   "execution_count": 4,
   "id": "ab10e510",
   "metadata": {},
   "outputs": [
    {
     "data": {
      "text/plain": [
       "array(['Male', 'Female'], dtype=object)"
      ]
     },
     "execution_count": 4,
     "metadata": {},
     "output_type": "execute_result"
    }
   ],
   "source": [
    "# checking values for sex\n",
    "chan_df[\"sex\"].unique()"
   ]
  },
  {
   "cell_type": "code",
   "execution_count": 5,
   "id": "b1b0fbe1",
   "metadata": {},
   "outputs": [
    {
     "data": {
      "text/plain": [
       "array([1, 0])"
      ]
     },
     "execution_count": 5,
     "metadata": {},
     "output_type": "execute_result"
    }
   ],
   "source": [
    "# checking values for cens\n",
    "chan_df[\"cens\"].unique()"
   ]
  },
  {
   "cell_type": "code",
   "execution_count": 6,
   "id": "d1bff187",
   "metadata": {},
   "outputs": [
    {
     "data": {
      "image/png": "[encoded data removed]",
      "text/plain": [
       "<Figure size 1152x504 with 2 Axes>"
      ]
     },
     "metadata": {
      "needs_background": "light"
     },
     "output_type": "display_data"
    }
   ],
   "source": [
    "fig, ax = plt.subplots(1, 2, figsize=(16,7), sharey=True)\n",
    "sns.countplot(x=\"sex\", data=chan_df, ax=ax[0])\n",
    "sns.countplot(x=\"cens\", data=chan_df, ax=ax[1])\n",
    "ax[0].set_ylabel(\"\")\n",
    "ax[0].set_xlabel(\"sex\", size=20)\n",
    "ax[1].set_ylabel(\"\")\n",
    "ax[1].set_xlabel(\"cens\", size=20)\n",
    "fig.suptitle(\"Count plots of the categorical variables\", size=30)\n",
    "plt.tight_layout()"
   ]
  },
  {
   "cell_type": "code",
   "execution_count": 7,
   "id": "e730a1ed",
   "metadata": {},
   "outputs": [
    {
     "data": {
      "image/png": "[encoded data removed]",
      "text/plain": [
       "<Figure size 1152x504 with 2 Axes>"
      ]
     },
     "metadata": {
      "needs_background": "light"
     },
     "output_type": "display_data"
    }
   ],
   "source": [
    "fig, ax = plt.subplots(1, 2, figsize=(16,7), sharey=True)\n",
    "sns.histplot(x=\"entry\", data=chan_df, ax=ax[0])\n",
    "sns.histplot(x=\"exit\", data=chan_df, ax=ax[1])\n",
    "ax[0].set_ylabel(\"count\", size=20)\n",
    "ax[0].set_xlabel(\"entry\", size=20)\n",
    "ax[1].set_xlabel(\"exit\", size=20)\n",
    "fig.suptitle(\"Histograms of resident ages\", size=30)\n",
    "plt.tight_layout()"
   ]
  },
  {
   "cell_type": "markdown",
   "id": "bf9f896f",
   "metadata": {},
   "source": [
    "### Preparing for PCA"
   ]
  },
  {
   "cell_type": "code",
   "execution_count": 8,
   "id": "48383ae7",
   "metadata": {},
   "outputs": [
    {
     "data": {
      "text/html": [
       "<div>\n",
       "<style scoped>\n",
       "    .dataframe tbody tr th:only-of-type {\n",
       "        vertical-align: middle;\n",
       "    }\n",
       "\n",
       "    .dataframe tbody tr th {\n",
       "        vertical-align: top;\n",
       "    }\n",
       "\n",
       "    .dataframe thead th {\n",
       "        text-align: right;\n",
       "    }\n",
       "</style>\n",
       "<table border=\"1\" class=\"dataframe\">\n",
       "  <thead>\n",
       "    <tr style=\"text-align: right;\">\n",
       "      <th></th>\n",
       "      <th>sex</th>\n",
       "      <th>entry</th>\n",
       "      <th>exit</th>\n",
       "      <th>cens</th>\n",
       "    </tr>\n",
       "  </thead>\n",
       "  <tbody>\n",
       "    <tr>\n",
       "      <th>0</th>\n",
       "      <td>0</td>\n",
       "      <td>-1.776485</td>\n",
       "      <td>-1.048436</td>\n",
       "      <td>1</td>\n",
       "    </tr>\n",
       "    <tr>\n",
       "      <th>1</th>\n",
       "      <td>0</td>\n",
       "      <td>1.649786</td>\n",
       "      <td>1.914450</td>\n",
       "      <td>1</td>\n",
       "    </tr>\n",
       "    <tr>\n",
       "      <th>2</th>\n",
       "      <td>0</td>\n",
       "      <td>-0.711174</td>\n",
       "      <td>-0.236686</td>\n",
       "      <td>1</td>\n",
       "    </tr>\n",
       "    <tr>\n",
       "      <th>3</th>\n",
       "      <td>0</td>\n",
       "      <td>0.138196</td>\n",
       "      <td>-0.399036</td>\n",
       "      <td>1</td>\n",
       "    </tr>\n",
       "    <tr>\n",
       "      <th>4</th>\n",
       "      <td>0</td>\n",
       "      <td>-0.610401</td>\n",
       "      <td>-0.047278</td>\n",
       "      <td>1</td>\n",
       "    </tr>\n",
       "  </tbody>\n",
       "</table>\n",
       "</div>"
      ],
      "text/plain": [
       "   sex     entry      exit  cens\n",
       "0    0 -1.776485 -1.048436     1\n",
       "1    0  1.649786  1.914450     1\n",
       "2    0 -0.711174 -0.236686     1\n",
       "3    0  0.138196 -0.399036     1\n",
       "4    0 -0.610401 -0.047278     1"
      ]
     },
     "execution_count": 8,
     "metadata": {},
     "output_type": "execute_result"
    }
   ],
   "source": [
    "from sklearn.preprocessing import StandardScaler\n",
    "\n",
    "scaler = StandardScaler()\n",
    "\n",
    "# scaling the numerical variables\n",
    "chan_df[[\"entry\", \"exit\"]] = scaler.fit_transform(chan_df[[\"entry\", \"exit\"]])\n",
    "\n",
    "# turning chan_df back into a dataframe\n",
    "chan_df = pd.DataFrame(chan_df, columns=[\"sex\", \"entry\", \"exit\", \"cens\"])\n",
    "\n",
    "# encoding sex\n",
    "chan_df = chan_df.replace({\"Male\":0, \"Female\":1})\n",
    "chan_df.head()"
   ]
  },
  {
   "cell_type": "markdown",
   "id": "0b6cf67d",
   "metadata": {},
   "source": [
    "## Doing the PCA"
   ]
  },
  {
   "cell_type": "code",
   "execution_count": 9,
   "id": "29aaf3ee",
   "metadata": {},
   "outputs": [],
   "source": [
    "from sklearn.decomposition import PCA\n",
    "\n",
    "decomp = PCA(n_components=3, svd_solver=\"full\")\n",
    "X3D = decomp.fit_transform(chan_df)"
   ]
  },
  {
   "cell_type": "code",
   "execution_count": 10,
   "id": "f0579b5e",
   "metadata": {},
   "outputs": [
    {
     "data": {
      "text/plain": [
       "array([[-0.02373694,  0.70672093,  0.70274925,  0.07826599],\n",
       "       [-0.19388591,  0.43213572, -0.52026992,  0.7106238 ],\n",
       "       [-0.08540012, -0.557555  ,  0.48325218,  0.66955699]])"
      ]
     },
     "execution_count": 10,
     "metadata": {},
     "output_type": "execute_result"
    }
   ],
   "source": [
    "# the first three component vectors\n",
    "decomp.components_"
   ]
  },
  {
   "cell_type": "code",
   "execution_count": 11,
   "id": "71c3c60c",
   "metadata": {},
   "outputs": [
    {
     "data": {
      "text/plain": [
       "array([0.74476969, 0.86140257, 0.93321601])"
      ]
     },
     "execution_count": 11,
     "metadata": {},
     "output_type": "execute_result"
    }
   ],
   "source": [
    "# cumulative sum of the explained variance ratios\n",
    "np.cumsum(decomp.explained_variance_ratio_)"
   ]
  },
  {
   "cell_type": "markdown",
   "id": "7a777fe5",
   "metadata": {},
   "source": [
    "### Our first three principal components explain about 93.3% of the total variation in the dataset.\n",
    "## Agglomerative clustering"
   ]
  },
  {
   "cell_type": "code",
   "execution_count": 12,
   "id": "a43b645e",
   "metadata": {},
   "outputs": [
    {
     "data": {
      "image/png": "[encoded data removed]",
      "text/plain": [
       "<Figure size 1152x504 with 1 Axes>"
      ]
     },
     "metadata": {
      "needs_background": "light"
     },
     "output_type": "display_data"
    }
   ],
   "source": [
    "from sklearn.cluster import AgglomerativeClustering\n",
    "from scipy.cluster.hierarchy import dendrogram\n",
    "\n",
    "cluster = AgglomerativeClustering(n_clusters=None,\n",
    "                                  compute_full_tree=True, \n",
    "                                  distance_threshold=0)\n",
    "\n",
    "cluster.fit_predict(X3D)\n",
    "\n",
    "# I copied the function beow directly from the sklearn.cluster documentation\n",
    "\n",
    "def plot_dendrogram(model, **kwargs):\n",
    "    # Create linkage matrix and then plot the dendrogram\n",
    "\n",
    "    # create the counts of samples under each node\n",
    "    counts = np.zeros(model.children_.shape[0])\n",
    "    n_samples = len(model.labels_)\n",
    "    for i, merge in enumerate(model.children_):\n",
    "        current_count = 0\n",
    "        for child_idx in merge:\n",
    "            if child_idx < n_samples:\n",
    "                current_count += 1  # leaf node\n",
    "            else:\n",
    "                current_count += counts[child_idx - n_samples]\n",
    "        counts[i] = current_count\n",
    "\n",
    "    linkage_matrix = np.column_stack(\n",
    "        [model.children_, model.distances_, counts]\n",
    "    ).astype(float)\n",
    "\n",
    "    # Plot the corresponding dendrogram\n",
    "    dendrogram(linkage_matrix, **kwargs)\n",
    "\n",
    "fig, ax = plt.subplots(figsize=(16,7))\n",
    "plot_dendrogram(cluster, truncate_mode=\"level\", p=3)\n",
    "ax.grid(b=None)\n",
    "ax.set_title(\"Dendrogram on 3-dimensional data\", size=20)\n",
    "plt.tight_layout()"
   ]
  },
  {
   "cell_type": "markdown",
   "id": "d6efb079",
   "metadata": {},
   "source": [
    "### In the dendrogram shown above, there appears to be an obvious division of the data into two clusters. One cluster is shown in red while the other is shown in green.\n",
    "## KMeans"
   ]
  },
  {
   "cell_type": "code",
   "execution_count": 13,
   "id": "73758cff",
   "metadata": {},
   "outputs": [
    {
     "data": {
      "text/plain": [
       "Text(0.5, 0, 'number of clusters')"
      ]
     },
     "execution_count": 13,
     "metadata": {},
     "output_type": "execute_result"
    },
    {
     "data": {
      "image/png": "[encoded data removed]",
      "text/plain": [
       "<Figure size 720x360 with 1 Axes>"
      ]
     },
     "metadata": {
      "needs_background": "light"
     },
     "output_type": "display_data"
    }
   ],
   "source": [
    "from sklearn.cluster import KMeans\n",
    "\n",
    "inertiaList = []\n",
    "\n",
    "for i in range(1,7):\n",
    "    k_cluster = KMeans(n_clusters=i, random_state=45)\n",
    "    k_cluster.fit_predict(X3D)\n",
    "    inertiaList.append(k_cluster.inertia_)\n",
    "\n",
    "fix, ax = plt.subplots(figsize=(10,5))\n",
    "plt.plot(range(1,7), inertiaList, \"ro-\")\n",
    "ax.set_title(\"Elbow plot\", size=20)\n",
    "ax.set_ylabel(\"inertia\", size=15)\n",
    "ax.set_xlabel(\"number of clusters\", size=15)"
   ]
  },
  {
   "cell_type": "markdown",
   "id": "32dfe6b6",
   "metadata": {},
   "source": [
    "### The \"elbow\" is located at 2, which suggests that two is the optimal number of clusters for our analysis."
   ]
  },
  {
   "cell_type": "code",
   "execution_count": 14,
   "id": "2f17f9db",
   "metadata": {},
   "outputs": [
    {
     "data": {
      "text/html": [
       "<div>\n",
       "<style scoped>\n",
       "    .dataframe tbody tr th:only-of-type {\n",
       "        vertical-align: middle;\n",
       "    }\n",
       "\n",
       "    .dataframe tbody tr th {\n",
       "        vertical-align: top;\n",
       "    }\n",
       "\n",
       "    .dataframe thead th {\n",
       "        text-align: right;\n",
       "    }\n",
       "</style>\n",
       "<table border=\"1\" class=\"dataframe\">\n",
       "  <thead>\n",
       "    <tr style=\"text-align: right;\">\n",
       "      <th></th>\n",
       "      <th>sex</th>\n",
       "      <th>entry</th>\n",
       "      <th>exit</th>\n",
       "      <th>cens</th>\n",
       "      <th>labels</th>\n",
       "    </tr>\n",
       "  </thead>\n",
       "  <tbody>\n",
       "    <tr>\n",
       "      <th>0</th>\n",
       "      <td>0</td>\n",
       "      <td>-1.776485</td>\n",
       "      <td>-1.048436</td>\n",
       "      <td>1</td>\n",
       "      <td>0</td>\n",
       "    </tr>\n",
       "    <tr>\n",
       "      <th>1</th>\n",
       "      <td>0</td>\n",
       "      <td>1.649786</td>\n",
       "      <td>1.914450</td>\n",
       "      <td>1</td>\n",
       "      <td>1</td>\n",
       "    </tr>\n",
       "    <tr>\n",
       "      <th>2</th>\n",
       "      <td>0</td>\n",
       "      <td>-0.711174</td>\n",
       "      <td>-0.236686</td>\n",
       "      <td>1</td>\n",
       "      <td>0</td>\n",
       "    </tr>\n",
       "    <tr>\n",
       "      <th>3</th>\n",
       "      <td>0</td>\n",
       "      <td>0.138196</td>\n",
       "      <td>-0.399036</td>\n",
       "      <td>1</td>\n",
       "      <td>0</td>\n",
       "    </tr>\n",
       "    <tr>\n",
       "      <th>4</th>\n",
       "      <td>0</td>\n",
       "      <td>-0.610401</td>\n",
       "      <td>-0.047278</td>\n",
       "      <td>1</td>\n",
       "      <td>0</td>\n",
       "    </tr>\n",
       "  </tbody>\n",
       "</table>\n",
       "</div>"
      ],
      "text/plain": [
       "   sex     entry      exit  cens  labels\n",
       "0    0 -1.776485 -1.048436     1       0\n",
       "1    0  1.649786  1.914450     1       1\n",
       "2    0 -0.711174 -0.236686     1       0\n",
       "3    0  0.138196 -0.399036     1       0\n",
       "4    0 -0.610401 -0.047278     1       0"
      ]
     },
     "execution_count": 14,
     "metadata": {},
     "output_type": "execute_result"
    }
   ],
   "source": [
    "k_cluster = KMeans(n_clusters=2, random_state=45)\n",
    "k_cluster.fit_predict(X3D)\n",
    "\n",
    "chan_df[\"labels\"] = k_cluster.labels_ # adding the cluster labels to our Channing House dataframe\n",
    "chan_df.head()"
   ]
  },
  {
   "cell_type": "code",
   "execution_count": 15,
   "id": "dc081a53",
   "metadata": {},
   "outputs": [],
   "source": [
    "# getting the dataframe ready for logistic regression\n",
    "from sklearn.model_selection import train_test_split\n",
    "\n",
    "X = chan_df.drop(\"labels\", axis=1)\n",
    "y = chan_df[\"labels\"]\n",
    "\n",
    "X_train, X_test, y_train, y_test = train_test_split(X, y, test_size=0.15, random_state=75)"
   ]
  },
  {
   "cell_type": "markdown",
   "id": "bfab0eed",
   "metadata": {},
   "source": [
    "### Tuning our model by looking for the best value for the C hyperparameter."
   ]
  },
  {
   "cell_type": "code",
   "execution_count": 16,
   "id": "2f3491a9",
   "metadata": {},
   "outputs": [],
   "source": [
    "# looping over several possible values of C\n",
    "from sklearn.linear_model import LogisticRegression\n",
    "from sklearn.metrics import accuracy_score\n",
    "\n",
    "c_list = np.arange(0.1, 1.1, 0.1)\n",
    "err_list = []\n",
    "\n",
    "for cutoff in c_list:\n",
    "    test_model = LogisticRegression(C=cutoff)\n",
    "    test_model.fit(X_train, y_train)\n",
    "    y_pred = test_model.predict(X_train)\n",
    "    err_list.append(1 - accuracy_score(y_train, y_pred))"
   ]
  },
  {
   "cell_type": "code",
   "execution_count": 17,
   "id": "8462534c",
   "metadata": {},
   "outputs": [
    {
     "data": {
      "image/png": "[encoded data removed]",
      "text/plain": [
       "<Figure size 720x360 with 1 Axes>"
      ]
     },
     "metadata": {
      "needs_background": "light"
     },
     "output_type": "display_data"
    }
   ],
   "source": [
    "fig, ax = plt.subplots(figsize=(10,5))\n",
    "sns.scatterplot(x=c_list, y=err_list, s=150)\n",
    "ax.set_title(\"error rate versus C\", size=20)\n",
    "ax.set_ylabel(\"error rate\", size=15)\n",
    "ax.set_xlabel(\"C parameter\", size=15)\n",
    "plt.tight_layout()"
   ]
  },
  {
   "cell_type": "markdown",
   "id": "21ea93a5",
   "metadata": {},
   "source": [
    "### We choose the default value C = 1.0 and continue"
   ]
  },
  {
   "cell_type": "code",
   "execution_count": 18,
   "id": "64f702a4",
   "metadata": {},
   "outputs": [
    {
     "name": "stdout",
     "output_type": "stream",
     "text": [
      "Accuracy score on the test set is 1.0\n"
     ]
    }
   ],
   "source": [
    "final_model = LogisticRegression() \n",
    "final_model.fit(X_train, y_train)\n",
    "y_test_pred = final_model.predict(X_test)\n",
    "print(\"Accuracy score on the test set is \" + str(accuracy_score(y_test, y_test_pred)))"
   ]
  },
  {
   "cell_type": "markdown",
   "id": "402bb8f7",
   "metadata": {},
   "source": [
    "### The model classifies the test set with 100% accuracy, but what do the classes represent?"
   ]
  },
  {
   "cell_type": "code",
   "execution_count": 19,
   "id": "2a9cac0d",
   "metadata": {},
   "outputs": [
    {
     "data": {
      "image/png": "[encoded data removed]",
      "text/plain": [
       "<Figure size 720x360 with 1 Axes>"
      ]
     },
     "metadata": {
      "needs_background": "light"
     },
     "output_type": "display_data"
    }
   ],
   "source": [
    "center = k_cluster.cluster_centers_\n",
    "\n",
    "fig, ax = plt.subplots(figsize=(10,5))\n",
    "\n",
    "df = pd.DataFrame(X3D[:,:2], columns=[\"x\", \"y\"])\n",
    "df[\"labels\"] = k_cluster.labels_\n",
    "sns.scatterplot(x=\"x\", y=\"y\", hue=\"labels\", data=df, palette=\"bright\")\n",
    "sns.scatterplot(x=center[:,0], y=center[:,1], color=\"black\",\n",
    "                marker=\"^\", s=150)\n",
    "ax.set_title(\"Two clusters with centers shown in black\", size=15)\n",
    "\n",
    "plt.tight_layout()"
   ]
  },
  {
   "cell_type": "markdown",
   "id": "1984d2a5",
   "metadata": {},
   "source": [
    "### Projecting our transformed data onto the plane of the first two principal components, we see the clusters are divided mainly along the principal axis. Our principal vector is [-0.02373694,  0.70672093,  0.70274925,  0.07826599], where each component represents the coefficient of the linear combination of the variables *sex*, *entry*, *exit* and *sensor* that make up the principle vector. The relatively small coefficient for the sex variable shows that this variable plays a small role in explaining the total variance of the dataset. We believe this is because a large majority of the residents in the study are female. \n",
    "### Two of the three remaining coefficients have to do with resident ages, and the final coefficient represents the variable *cens*. We believe that residents in cluster 0, shown above in blue, tend to be the youngest of the residents studied, and that fewer of these residents died than those in cluster 1, shown in orange."
   ]
  },
  {
   "cell_type": "markdown",
   "id": "f47fc17b",
   "metadata": {},
   "source": [
    "## Part 2, prostate dataset\n",
    "### Description of the variables\n",
    "#### A data frame with 14294 observations on the following 5 variables.\n",
    "#### grade: a factor with levels mode (moderately differentiated) and poor (poorly differentiated)\n",
    "#### stage: a factor with levels T1ab (Stage T1, clinically diagnoseed), T1c (Stage T1, diagnosed via a PSA test), and T2 (Stage T2)\n",
    "#### ageGroup: a factor with levels 66-69 70-74 75-79 80+\n",
    "#### survTime: time from diagnosis to death or last date known alive\n",
    "#### status: a censoring variable, 0, (censored), 1 (death from prostate cancer), and 2 (death from other causes)"
   ]
  },
  {
   "cell_type": "code",
   "execution_count": 20,
   "id": "de830871",
   "metadata": {},
   "outputs": [
    {
     "data": {
      "text/html": [
       "<div>\n",
       "<style scoped>\n",
       "    .dataframe tbody tr th:only-of-type {\n",
       "        vertical-align: middle;\n",
       "    }\n",
       "\n",
       "    .dataframe tbody tr th {\n",
       "        vertical-align: top;\n",
       "    }\n",
       "\n",
       "    .dataframe thead th {\n",
       "        text-align: right;\n",
       "    }\n",
       "</style>\n",
       "<table border=\"1\" class=\"dataframe\">\n",
       "  <thead>\n",
       "    <tr style=\"text-align: right;\">\n",
       "      <th></th>\n",
       "      <th>grade</th>\n",
       "      <th>stage</th>\n",
       "      <th>ageGroup</th>\n",
       "      <th>survTime</th>\n",
       "      <th>status</th>\n",
       "    </tr>\n",
       "  </thead>\n",
       "  <tbody>\n",
       "    <tr>\n",
       "      <th>0</th>\n",
       "      <td>mode</td>\n",
       "      <td>T1c</td>\n",
       "      <td>80+</td>\n",
       "      <td>18</td>\n",
       "      <td>0</td>\n",
       "    </tr>\n",
       "    <tr>\n",
       "      <th>1</th>\n",
       "      <td>mode</td>\n",
       "      <td>T1ab</td>\n",
       "      <td>75-79</td>\n",
       "      <td>23</td>\n",
       "      <td>0</td>\n",
       "    </tr>\n",
       "    <tr>\n",
       "      <th>2</th>\n",
       "      <td>poor</td>\n",
       "      <td>T1c</td>\n",
       "      <td>75-79</td>\n",
       "      <td>37</td>\n",
       "      <td>0</td>\n",
       "    </tr>\n",
       "    <tr>\n",
       "      <th>3</th>\n",
       "      <td>mode</td>\n",
       "      <td>T2</td>\n",
       "      <td>70-74</td>\n",
       "      <td>27</td>\n",
       "      <td>0</td>\n",
       "    </tr>\n",
       "    <tr>\n",
       "      <th>4</th>\n",
       "      <td>mode</td>\n",
       "      <td>T1c</td>\n",
       "      <td>70-74</td>\n",
       "      <td>42</td>\n",
       "      <td>0</td>\n",
       "    </tr>\n",
       "  </tbody>\n",
       "</table>\n",
       "</div>"
      ],
      "text/plain": [
       "  grade stage ageGroup  survTime  status\n",
       "0  mode   T1c      80+        18       0\n",
       "1  mode  T1ab    75-79        23       0\n",
       "2  poor   T1c    75-79        37       0\n",
       "3  mode    T2    70-74        27       0\n",
       "4  mode   T1c    70-74        42       0"
      ]
     },
     "execution_count": 20,
     "metadata": {},
     "output_type": "execute_result"
    }
   ],
   "source": [
    "# status is our target variable. \n",
    "prostate = pd.read_csv(\"prostateSurvival.csv\")\n",
    "prostate.drop(\"Unnamed: 0\", axis=1, inplace=True)\n",
    "prostate.head()"
   ]
  },
  {
   "cell_type": "markdown",
   "id": "3550067f",
   "metadata": {},
   "source": [
    "### Becoming acquainted with the data"
   ]
  },
  {
   "cell_type": "code",
   "execution_count": 21,
   "id": "731c2f41",
   "metadata": {},
   "outputs": [
    {
     "data": {
      "text/plain": [
       "grade       False\n",
       "stage       False\n",
       "ageGroup    False\n",
       "survTime    False\n",
       "status      False\n",
       "dtype: bool"
      ]
     },
     "execution_count": 21,
     "metadata": {},
     "output_type": "execute_result"
    }
   ],
   "source": [
    "# no missing data\n",
    "prostate.isna().any()"
   ]
  },
  {
   "cell_type": "code",
   "execution_count": 22,
   "id": "665ad628",
   "metadata": {},
   "outputs": [
    {
     "data": {
      "text/plain": [
       "grade       object\n",
       "stage       object\n",
       "ageGroup    object\n",
       "survTime     int64\n",
       "status       int64\n",
       "dtype: object"
      ]
     },
     "execution_count": 22,
     "metadata": {},
     "output_type": "execute_result"
    }
   ],
   "source": [
    "prostate.dtypes"
   ]
  },
  {
   "cell_type": "code",
   "execution_count": 23,
   "id": "c4b5b26a",
   "metadata": {},
   "outputs": [
    {
     "data": {
      "text/plain": [
       "array(['mode', 'poor'], dtype=object)"
      ]
     },
     "execution_count": 23,
     "metadata": {},
     "output_type": "execute_result"
    }
   ],
   "source": [
    "# categories of the grade variable\n",
    "prostate[\"grade\"].unique()"
   ]
  },
  {
   "cell_type": "code",
   "execution_count": 24,
   "id": "d8cf4224",
   "metadata": {},
   "outputs": [
    {
     "data": {
      "text/plain": [
       "array(['T1c', 'T1ab', 'T2'], dtype=object)"
      ]
     },
     "execution_count": 24,
     "metadata": {},
     "output_type": "execute_result"
    }
   ],
   "source": [
    "# categories of the stage variable\n",
    "prostate[\"stage\"].unique()"
   ]
  },
  {
   "cell_type": "code",
   "execution_count": 25,
   "id": "4b4a78a6",
   "metadata": {},
   "outputs": [
    {
     "data": {
      "text/plain": [
       "array(['80+', '75-79', '70-74', '66-69'], dtype=object)"
      ]
     },
     "execution_count": 25,
     "metadata": {},
     "output_type": "execute_result"
    }
   ],
   "source": [
    "# the different age groups\n",
    "prostate[\"ageGroup\"].unique()"
   ]
  },
  {
   "cell_type": "code",
   "execution_count": 26,
   "id": "40f4585e",
   "metadata": {},
   "outputs": [
    {
     "data": {
      "text/plain": [
       "array([0, 2, 1])"
      ]
     },
     "execution_count": 26,
     "metadata": {},
     "output_type": "execute_result"
    }
   ],
   "source": [
    "# the values of the target variable for our analysis\n",
    "prostate[\"status\"].unique()"
   ]
  },
  {
   "cell_type": "code",
   "execution_count": 27,
   "id": "66633aca",
   "metadata": {},
   "outputs": [
    {
     "data": {
      "image/png": "[encoded data removed]",
      "text/plain": [
       "<Figure size 720x360 with 1 Axes>"
      ]
     },
     "metadata": {
      "needs_background": "light"
     },
     "output_type": "display_data"
    }
   ],
   "source": [
    "fig, ax = plt.subplots(figsize=(10,5))\n",
    "sns.boxplot(y=\"survTime\", data=prostate)\n",
    "ax.set_title(\"Box plot for survival times\", size=20)\n",
    "plt.tight_layout()"
   ]
  },
  {
   "cell_type": "markdown",
   "id": "3c1cb699",
   "metadata": {},
   "source": [
    "### Shown above is the distribution of survival times for the subjects of the study."
   ]
  },
  {
   "cell_type": "code",
   "execution_count": 28,
   "id": "360c53bd",
   "metadata": {},
   "outputs": [
    {
     "data": {
      "image/png": "[encoded data removed]",
      "text/plain": [
       "<Figure size 1152x648 with 4 Axes>"
      ]
     },
     "metadata": {
      "needs_background": "light"
     },
     "output_type": "display_data"
    }
   ],
   "source": [
    "fig, ax = plt.subplots(2, 2, figsize=(16,9), sharey=True)\n",
    "fig.suptitle(\"Count plots for the categorical variables\", size=30)\n",
    "sns.countplot(x=\"grade\", data=prostate, ax=ax[0,0])\n",
    "sns.countplot(x=\"stage\", data=prostate, ax=ax[0,1])\n",
    "sns.countplot(x=\"ageGroup\", data=prostate, ax=ax[1,0])\n",
    "sns.countplot(x=\"status\", data=prostate, ax=ax[1,1])\n",
    "ax[0,1].set_ylabel(\"\")\n",
    "ax[1,1].set_ylabel(\"\")\n",
    "plt.tight_layout()"
   ]
  },
  {
   "cell_type": "markdown",
   "id": "f0fdac2e",
   "metadata": {},
   "source": [
    "### The bar graphs above show the frequencies of each category of our categorical variables. The imbalance among the categories of our target variable, *status*, suggests that we are going to have a hard time building a classifier that correctly predicts outcomes for unseen data.\n",
    "### Preparing for logistic regression"
   ]
  },
  {
   "cell_type": "code",
   "execution_count": 29,
   "id": "87dab4d0",
   "metadata": {},
   "outputs": [
    {
     "data": {
      "text/html": [
       "<div>\n",
       "<style scoped>\n",
       "    .dataframe tbody tr th:only-of-type {\n",
       "        vertical-align: middle;\n",
       "    }\n",
       "\n",
       "    .dataframe tbody tr th {\n",
       "        vertical-align: top;\n",
       "    }\n",
       "\n",
       "    .dataframe thead th {\n",
       "        text-align: right;\n",
       "    }\n",
       "</style>\n",
       "<table border=\"1\" class=\"dataframe\">\n",
       "  <thead>\n",
       "    <tr style=\"text-align: right;\">\n",
       "      <th></th>\n",
       "      <th>grade</th>\n",
       "      <th>stage</th>\n",
       "      <th>ageGroup</th>\n",
       "      <th>survTime</th>\n",
       "      <th>status</th>\n",
       "    </tr>\n",
       "  </thead>\n",
       "  <tbody>\n",
       "    <tr>\n",
       "      <th>0</th>\n",
       "      <td>0</td>\n",
       "      <td>1</td>\n",
       "      <td>3</td>\n",
       "      <td>18</td>\n",
       "      <td>0</td>\n",
       "    </tr>\n",
       "    <tr>\n",
       "      <th>1</th>\n",
       "      <td>0</td>\n",
       "      <td>0</td>\n",
       "      <td>2</td>\n",
       "      <td>23</td>\n",
       "      <td>0</td>\n",
       "    </tr>\n",
       "    <tr>\n",
       "      <th>2</th>\n",
       "      <td>1</td>\n",
       "      <td>1</td>\n",
       "      <td>2</td>\n",
       "      <td>37</td>\n",
       "      <td>0</td>\n",
       "    </tr>\n",
       "    <tr>\n",
       "      <th>3</th>\n",
       "      <td>0</td>\n",
       "      <td>2</td>\n",
       "      <td>1</td>\n",
       "      <td>27</td>\n",
       "      <td>0</td>\n",
       "    </tr>\n",
       "    <tr>\n",
       "      <th>4</th>\n",
       "      <td>0</td>\n",
       "      <td>1</td>\n",
       "      <td>1</td>\n",
       "      <td>42</td>\n",
       "      <td>0</td>\n",
       "    </tr>\n",
       "  </tbody>\n",
       "</table>\n",
       "</div>"
      ],
      "text/plain": [
       "   grade  stage  ageGroup  survTime  status\n",
       "0      0      1         3        18       0\n",
       "1      0      0         2        23       0\n",
       "2      1      1         2        37       0\n",
       "3      0      2         1        27       0\n",
       "4      0      1         1        42       0"
      ]
     },
     "execution_count": 29,
     "metadata": {},
     "output_type": "execute_result"
    }
   ],
   "source": [
    "# encoding the categorical variables\n",
    "prostate = prostate.replace({\"mode\":0, \"poor\":1})\n",
    "prostate = prostate.replace({\"66-69\":0, \"70-74\":1, \"75-79\":2, \"80+\":3})\n",
    "prostate = prostate.replace({\"T1ab\":0, \"T1c\":1, \"T2\":2})\n",
    "prostate.head()"
   ]
  },
  {
   "cell_type": "code",
   "execution_count": 30,
   "id": "224c6572",
   "metadata": {},
   "outputs": [],
   "source": [
    "# splitting the data. note that we set aside out 90% for the training data due to the severe imbalance of \n",
    "# status 1 or 2 values compared to status 0 values\n",
    "X = prostate.drop(\"status\", axis=1)\n",
    "y= prostate[\"status\"]\n",
    "\n",
    "X_train, X_test, y_train, y_test = train_test_split(X, y, test_size=0.1, random_state=175)"
   ]
  },
  {
   "cell_type": "markdown",
   "id": "e911ce26",
   "metadata": {},
   "source": [
    "### Logistic regression using *statsmodels*"
   ]
  },
  {
   "cell_type": "code",
   "execution_count": 31,
   "id": "c26f26f1",
   "metadata": {},
   "outputs": [],
   "source": [
    "import statsmodels.api as sm\n",
    "from scipy import stats\n",
    "from statsmodels.formula.api import logit"
   ]
  },
  {
   "cell_type": "code",
   "execution_count": 32,
   "id": "bed9289c",
   "metadata": {},
   "outputs": [
    {
     "name": "stdout",
     "output_type": "stream",
     "text": [
      "Optimization terminated successfully.\n",
      "         Current function value: 0.784139\n",
      "         Iterations 7\n"
     ]
    }
   ],
   "source": [
    "# because this case is not binary classification, we use the multinomial logit model\n",
    "log_mod = sm.MNLogit(y_train, X_train).fit()"
   ]
  },
  {
   "cell_type": "code",
   "execution_count": 33,
   "id": "6f1ad19b",
   "metadata": {},
   "outputs": [
    {
     "data": {
      "text/html": [
       "<table class=\"simpletable\">\n",
       "<caption>MNLogit Regression Results</caption>\n",
       "<tr>\n",
       "  <th>Dep. Variable:</th>        <td>status</td>      <th>  No. Observations:  </th>  <td> 12864</td> \n",
       "</tr>\n",
       "<tr>\n",
       "  <th>Model:</th>                <td>MNLogit</td>     <th>  Df Residuals:      </th>  <td> 12856</td> \n",
       "</tr>\n",
       "<tr>\n",
       "  <th>Method:</th>                 <td>MLE</td>       <th>  Df Model:          </th>  <td>     6</td> \n",
       "</tr>\n",
       "<tr>\n",
       "  <th>Date:</th>            <td>Thu, 09 Dec 2021</td> <th>  Pseudo R-squ.:     </th> <td>-0.06542</td>\n",
       "</tr>\n",
       "<tr>\n",
       "  <th>Time:</th>                <td>14:23:39</td>     <th>  Log-Likelihood:    </th> <td> -10087.</td>\n",
       "</tr>\n",
       "<tr>\n",
       "  <th>converged:</th>             <td>True</td>       <th>  LL-Null:           </th> <td> -9467.8</td>\n",
       "</tr>\n",
       "<tr>\n",
       "  <th>Covariance Type:</th>     <td>nonrobust</td>    <th>  LLR p-value:       </th>  <td> 1.000</td> \n",
       "</tr>\n",
       "</table>\n",
       "<table class=\"simpletable\">\n",
       "<tr>\n",
       "  <th>status=1</th>    <th>coef</th>     <th>std err</th>      <th>z</th>      <th>P>|z|</th>  <th>[0.025</th>    <th>0.975]</th>  \n",
       "</tr>\n",
       "<tr>\n",
       "  <th>grade</th>    <td>    1.0923</td> <td>    0.074</td> <td>   14.772</td> <td> 0.000</td> <td>    0.947</td> <td>    1.237</td>\n",
       "</tr>\n",
       "<tr>\n",
       "  <th>stage</th>    <td>   -0.7027</td> <td>    0.038</td> <td>  -18.571</td> <td> 0.000</td> <td>   -0.777</td> <td>   -0.629</td>\n",
       "</tr>\n",
       "<tr>\n",
       "  <th>ageGroup</th> <td>   -0.5407</td> <td>    0.025</td> <td>  -21.724</td> <td> 0.000</td> <td>   -0.589</td> <td>   -0.492</td>\n",
       "</tr>\n",
       "<tr>\n",
       "  <th>survTime</th> <td>   -0.0202</td> <td>    0.001</td> <td>  -17.456</td> <td> 0.000</td> <td>   -0.022</td> <td>   -0.018</td>\n",
       "</tr>\n",
       "<tr>\n",
       "  <th>status=2</th>    <th>coef</th>     <th>std err</th>      <th>z</th>      <th>P>|z|</th>  <th>[0.025</th>    <th>0.975]</th>  \n",
       "</tr>\n",
       "<tr>\n",
       "  <th>grade</th>    <td>    0.1660</td> <td>    0.051</td> <td>    3.253</td> <td> 0.001</td> <td>    0.066</td> <td>    0.266</td>\n",
       "</tr>\n",
       "<tr>\n",
       "  <th>stage</th>    <td>   -0.4549</td> <td>    0.023</td> <td>  -19.737</td> <td> 0.000</td> <td>   -0.500</td> <td>   -0.410</td>\n",
       "</tr>\n",
       "<tr>\n",
       "  <th>ageGroup</th> <td>   -0.1229</td> <td>    0.015</td> <td>   -8.266</td> <td> 0.000</td> <td>   -0.152</td> <td>   -0.094</td>\n",
       "</tr>\n",
       "<tr>\n",
       "  <th>survTime</th> <td>   -0.0059</td> <td>    0.001</td> <td>   -9.947</td> <td> 0.000</td> <td>   -0.007</td> <td>   -0.005</td>\n",
       "</tr>\n",
       "</table>"
      ],
      "text/plain": [
       "<class 'statsmodels.iolib.summary.Summary'>\n",
       "\"\"\"\n",
       "                          MNLogit Regression Results                          \n",
       "==============================================================================\n",
       "Dep. Variable:                 status   No. Observations:                12864\n",
       "Model:                        MNLogit   Df Residuals:                    12856\n",
       "Method:                           MLE   Df Model:                            6\n",
       "Date:                Thu, 09 Dec 2021   Pseudo R-squ.:                -0.06542\n",
       "Time:                        14:23:39   Log-Likelihood:                -10087.\n",
       "converged:                       True   LL-Null:                       -9467.8\n",
       "Covariance Type:            nonrobust   LLR p-value:                     1.000\n",
       "==============================================================================\n",
       "  status=1       coef    std err          z      P>|z|      [0.025      0.975]\n",
       "------------------------------------------------------------------------------\n",
       "grade          1.0923      0.074     14.772      0.000       0.947       1.237\n",
       "stage         -0.7027      0.038    -18.571      0.000      -0.777      -0.629\n",
       "ageGroup      -0.5407      0.025    -21.724      0.000      -0.589      -0.492\n",
       "survTime      -0.0202      0.001    -17.456      0.000      -0.022      -0.018\n",
       "------------------------------------------------------------------------------\n",
       "  status=2       coef    std err          z      P>|z|      [0.025      0.975]\n",
       "------------------------------------------------------------------------------\n",
       "grade          0.1660      0.051      3.253      0.001       0.066       0.266\n",
       "stage         -0.4549      0.023    -19.737      0.000      -0.500      -0.410\n",
       "ageGroup      -0.1229      0.015     -8.266      0.000      -0.152      -0.094\n",
       "survTime      -0.0059      0.001     -9.947      0.000      -0.007      -0.005\n",
       "==============================================================================\n",
       "\"\"\""
      ]
     },
     "execution_count": 33,
     "metadata": {},
     "output_type": "execute_result"
    }
   ],
   "source": [
    "log_mod.summary()"
   ]
  },
  {
   "cell_type": "code",
   "execution_count": 34,
   "id": "f90b10ad",
   "metadata": {},
   "outputs": [
    {
     "data": {
      "text/html": [
       "<div>\n",
       "<style scoped>\n",
       "    .dataframe tbody tr th:only-of-type {\n",
       "        vertical-align: middle;\n",
       "    }\n",
       "\n",
       "    .dataframe tbody tr th {\n",
       "        vertical-align: top;\n",
       "    }\n",
       "\n",
       "    .dataframe thead th {\n",
       "        text-align: right;\n",
       "    }\n",
       "</style>\n",
       "<table border=\"1\" class=\"dataframe\">\n",
       "  <thead>\n",
       "    <tr style=\"text-align: right;\">\n",
       "      <th></th>\n",
       "      <th>0</th>\n",
       "      <th>1</th>\n",
       "    </tr>\n",
       "  </thead>\n",
       "  <tbody>\n",
       "    <tr>\n",
       "      <th>grade</th>\n",
       "      <td>2.981089</td>\n",
       "      <td>1.180558</td>\n",
       "    </tr>\n",
       "    <tr>\n",
       "      <th>stage</th>\n",
       "      <td>0.495235</td>\n",
       "      <td>0.634543</td>\n",
       "    </tr>\n",
       "    <tr>\n",
       "      <th>ageGroup</th>\n",
       "      <td>0.582343</td>\n",
       "      <td>0.884381</td>\n",
       "    </tr>\n",
       "    <tr>\n",
       "      <th>survTime</th>\n",
       "      <td>0.980041</td>\n",
       "      <td>0.994130</td>\n",
       "    </tr>\n",
       "  </tbody>\n",
       "</table>\n",
       "</div>"
      ],
      "text/plain": [
       "                 0         1\n",
       "grade     2.981089  1.180558\n",
       "stage     0.495235  0.634543\n",
       "ageGroup  0.582343  0.884381\n",
       "survTime  0.980041  0.994130"
      ]
     },
     "execution_count": 34,
     "metadata": {},
     "output_type": "execute_result"
    }
   ],
   "source": [
    "# exponentiating the coefficients so we can interpret them\n",
    "# column 0 corresponds to the exponentiated coefficients from status=1\n",
    "# column 1 corresponds to the exponentiated coefficients from status=2\n",
    "np.exp(log_mod.params)"
   ]
  },
  {
   "cell_type": "markdown",
   "id": "1a3e21ae",
   "metadata": {},
   "source": [
    "### In the data frame above, the column 0 is the set of exponentiated coefficients for subjects with *status* = 1. Column 1 is the is the set of exponentiated coefficients for subjects with *status* = 2.\n",
    "## Comments on the model results\n",
    "#### The small p-values suggest that there is a significant relationship between each of the variables and the outcome status, both for outcome 1 and outcome 2\n",
    "### Model coefficients: holding all other coefficients constant...\n",
    "#### An increase by 1 *grade* level increases the odds of dying from prostate cancer by 2.98 (status=1) and the odds of dying from some other cause (status=2) by 1.18.\n",
    "#### An increase by 1 *stage* level increases the odds of dying from prostate cancer by 0.495 and dying from some other cause by 0.635.\n",
    "#### An increase by 1 *ageGroup* level increases the odds of dying from prostate cancer by 0.582 and dying from some other cause by 0.884.\n",
    "#### An increase of 1 month in *survTime* increases the odds of dying from prostate cancer by 0.980 and dying from some other cause by 0.994.\n",
    "### Now we move on to assess the model's accuracy"
   ]
  },
  {
   "cell_type": "code",
   "execution_count": 35,
   "id": "97148dad",
   "metadata": {},
   "outputs": [
    {
     "data": {
      "text/plain": [
       "0.7129197761194029"
      ]
     },
     "execution_count": 35,
     "metadata": {},
     "output_type": "execute_result"
    }
   ],
   "source": [
    "# the performance of the model on the training set\n",
    "y_train_pred = log_mod.predict(X_train)\n",
    "y_train_pred = y_train_pred.idxmax(axis=1)\n",
    "accuracy_score(y_train, y_train_pred)"
   ]
  },
  {
   "cell_type": "code",
   "execution_count": 36,
   "id": "6b4caa77",
   "metadata": {},
   "outputs": [
    {
     "data": {
      "text/plain": [
       "0.713986013986014"
      ]
     },
     "execution_count": 36,
     "metadata": {},
     "output_type": "execute_result"
    }
   ],
   "source": [
    "# the performance of the model on the test set\n",
    "y_test_pred = log_mod.predict(X_test)\n",
    "y_test_pred = y_test_pred.idxmax(axis=1)\n",
    "accuracy_score(y_test, y_test_pred)"
   ]
  },
  {
   "cell_type": "markdown",
   "id": "fed88609",
   "metadata": {},
   "source": [
    "### We note that the performances of the model on the training set and on the test set are comparable, even if they are not spectacular. There is no issue of the model overfitting the training data. We want to see what kinds of misclassifications our model is making, so we look at a confusion matrix."
   ]
  },
  {
   "cell_type": "code",
   "execution_count": 37,
   "id": "16fca8ff",
   "metadata": {},
   "outputs": [
    {
     "data": {
      "image/png": "[encoded data removed]",
      "text/plain": [
       "<Figure size 720x360 with 1 Axes>"
      ]
     },
     "metadata": {
      "needs_background": "light"
     },
     "output_type": "display_data"
    }
   ],
   "source": [
    "from sklearn.metrics import confusion_matrix\n",
    "\n",
    "fig, ax = plt.subplots(figsize=(10,5))\n",
    "sns.heatmap(confusion_matrix(y_test, y_test_pred),\n",
    "           annot=True,\n",
    "            fmt=\"g\",\n",
    "           cmap=\"viridis\",\n",
    "           cbar=False)\n",
    "ax.set_yticklabels([\"0-pred\", \"1-pred\", \"2-pred\"])\n",
    "ax.set_xticklabels([\"0-true\", \"1-true\", \"2-true\"])\n",
    "ax.set_title(\"Confusion matrix of the model's performance on the test set\", size=20)\n",
    "plt.tight_layout()"
   ]
  },
  {
   "cell_type": "markdown",
   "id": "d191b4b7",
   "metadata": {},
   "source": [
    "### As we feared might be the case, this model does not make any correct classifications of patients who died due to prostate cancer (1) or died from other causes (2)."
   ]
  }
 ],
 "metadata": {
  "kernelspec": {
   "display_name": "Python 3",
   "language": "python",
   "name": "python3"
  },
  "language_info": {
   "codemirror_mode": {
    "name": "ipython",
    "version": 3
   },
   "file_extension": ".py",
   "mimetype": "text/x-python",
   "name": "python",
   "nbconvert_exporter": "python",
   "pygments_lexer": "ipython3",
   "version": "3.9.7"
  }
 },
 "nbformat": 4,
 "nbformat_minor": 5
}
